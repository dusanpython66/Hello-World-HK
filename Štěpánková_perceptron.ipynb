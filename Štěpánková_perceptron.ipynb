{
  "nbformat": 4,
  "nbformat_minor": 0,
  "metadata": {
    "colab": {
      "name": "Štěpánková-perceptron.ipynb",
      "provenance": [],
      "collapsed_sections": [],
      "include_colab_link": true
    },
    "kernelspec": {
      "name": "python3",
      "display_name": "Python 3"
    },
    "language_info": {
      "name": "python"
    }
  },
  "cells": [
    {
      "cell_type": "markdown",
      "metadata": {
        "id": "view-in-github",
        "colab_type": "text"
      },
      "source": [
        "<a href=\"https://colab.research.google.com/github/dusanpython66/Hello-World-HK/blob/master/%C5%A0t%C4%9Bp%C3%A1nkov%C3%A1_perceptron.ipynb\" target=\"_parent\"><img src=\"https://colab.research.google.com/assets/colab-badge.svg\" alt=\"Open In Colab\"/></a>"
      ]
    },
    {
      "cell_type": "code",
      "metadata": {
        "id": "89Qt8egOxYxA",
        "colab": {
          "base_uri": "https://localhost:8080/"
        },
        "outputId": "4d8de2c3-938f-41da-89af-6558aecd4d22"
      },
      "source": [
        "from google.colab import drive\n",
        "drive.mount('/content/drive')"
      ],
      "execution_count": null,
      "outputs": [
        {
          "output_type": "stream",
          "text": [
            "Mounted at /content/drive\n"
          ],
          "name": "stdout"
        }
      ]
    },
    {
      "cell_type": "markdown",
      "metadata": {
        "id": "GI8Mo5PhCszY"
      },
      "source": [
        "# Model perceptronu"
      ]
    },
    {
      "cell_type": "markdown",
      "metadata": {
        "id": "D1Ymiq7enadO"
      },
      "source": [
        "## Úvod"
      ]
    },
    {
      "cell_type": "code",
      "metadata": {
        "id": "cJ4kQyP3_etJ"
      },
      "source": [
        "######### Zde je hlavička ################\n",
        "from math import *\n",
        "import sympy as sym \n",
        "from sympy.plotting import plot3d\n",
        "from IPython.display import Math, display, Latex\n",
        "import numpy as np\n",
        "sym.init_printing()\n",
        "##################################################"
      ],
      "execution_count": null,
      "outputs": []
    },
    {
      "cell_type": "code",
      "metadata": {
        "id": "e9hSfpZXCF8K",
        "colab": {
          "base_uri": "https://localhost:8080/",
          "height": 77
        },
        "outputId": "43365883-4915-41b3-ced5-18e73e5a7c37"
      },
      "source": [
        "from sympy import Derivative, Function, derive_by_array, latex, Lambda, symbols, summation, Sum, oo\n",
        "S = Function(\"S\")\n",
        "w0, w1, w2, x1, x2, z = sym.symbols(\"w0 w1 w2 x1 x2 z\")\n",
        "j = symbols(\"j\", integer=True)\n",
        "z = w1 * x1 + w2 * x2 + w0\n",
        "y = S(z)\n",
        "display(Math(r\"\"\"y = %s\"\"\" %(sym.latex(y))))\n",
        "display(Derivative(y, w0, evaluate=False))"
      ],
      "execution_count": null,
      "outputs": [
        {
          "output_type": "display_data",
          "data": {
            "text/latex": "$$y = S{\\left(w_{0} + w_{1} x_{1} + w_{2} x_{2} \\right)}$$",
            "text/plain": [
              "<IPython.core.display.Math object>"
            ]
          },
          "metadata": {
            "tags": []
          }
        },
        {
          "output_type": "display_data",
          "data": {
            "image/png": "[encoded data removed]",
            "text/latex": "$\\displaystyle \\frac{\\partial}{\\partial w_{0}} S{\\left(w_{0} + w_{1} x_{1} + w_{2} x_{2} \\right)}$",
            "text/plain": [
              " ∂                        \n",
              "───(S(w₀ + w₁⋅x₁ + w₂⋅x₂))\n",
              "∂w₀                       "
            ]
          },
          "metadata": {
            "tags": []
          }
        }
      ]
    },
    {
      "cell_type": "markdown",
      "metadata": {
        "id": "P--D3ABXhOmK"
      },
      "source": [
        "## Aktivační funkce $\\sigma$"
      ]
    },
    {
      "cell_type": "code",
      "metadata": {
        "colab": {
          "base_uri": "https://localhost:8080/",
          "height": 338
        },
        "id": "snod512SC0Ap",
        "outputId": "58de7919-7c42-4d80-d46b-5029a24c7062"
      },
      "source": [
        "# definujme tzv. aktivační funkci f\n",
        "xi, x1, x2, theta, xi = sym.symbols(\"xi x1 x2 theta xi\")\n",
        "sigma = 1/(1 + sym.exp(-xi))\n",
        "display(Math(r\"\"\"\\sigma(\\xi) = %s\"\"\" %(sym.latex(sigma))))\n",
        "sym.plot(sigma, (xi, -10, 10), ylabel=\"sigma\")"
      ],
      "execution_count": null,
      "outputs": [
        {
          "output_type": "display_data",
          "data": {
            "text/latex": "$$\\sigma(\\xi) = \\frac{1}{1 + e^{- \\xi}}$$",
            "text/plain": [
              "<IPython.core.display.Math object>"
            ]
          },
          "metadata": {
            "tags": []
          }
        },
        {
          "output_type": "display_data",
          "data": {
            "image/png": "[encoded data removed]",
            "text/plain": [
              "<Figure size 432x288 with 1 Axes>"
            ]
          },
          "metadata": {
            "tags": [],
            "needs_background": "light"
          }
        },
        {
          "output_type": "execute_result",
          "data": {
            "text/plain": [
              "<sympy.plotting.plot.Plot at 0x7f6440809d90>"
            ]
          },
          "metadata": {
            "tags": []
          },
          "execution_count": 3
        }
      ]
    },
    {
      "cell_type": "markdown",
      "metadata": {
        "id": "qaUNCc_br5QP"
      },
      "source": [
        "# Karolína"
      ]
    },
    {
      "cell_type": "markdown",
      "metadata": {
        "id": "QjYsjNOC9D6Y"
      },
      "source": [
        "## Lineární separace ve 2D"
      ]
    },
    {
      "cell_type": "markdown",
      "metadata": {
        "id": "TXxuvNQR_bJq"
      },
      "source": [
        "### Algoritmus vah ve 2D"
      ]
    },
    {
      "cell_type": "code",
      "metadata": {
        "colab": {
          "base_uri": "https://localhost:8080/"
        },
        "id": "2Ot6nYD__PAX",
        "outputId": "30f0a867-84f8-4d08-9540-03ec0c745155"
      },
      "source": [
        "# generujme  body:\n",
        "\n",
        "POCET_BODU = 4\n",
        "DIMENZE = 2\n",
        "from random import randint\n",
        "seznam_bodu = []\n",
        "for i in range(POCET_BODU):\n",
        "    souradnice = []\n",
        "    for j in range(DIMENZE):\n",
        "        x = randint(-10, 10)\n",
        "        souradnice.append(x)\n",
        "    seznam_bodu.append((*souradnice,))\n",
        "\n",
        "print(f\"Seznam bodů: {seznam_bodu}\")\n",
        "print()\n",
        "print(\"Rodělme body do dvou skupin s příznakem 0 resp. 1.\\n \\\n",
        "     Příznak d je čtvrtou souřadnicí.\")\n",
        "################## rozdělme body do dvou tříd:#####################\n",
        "# modrá znamená, že čtvrtá souřadnice je rovna nule,\n",
        "# červená znamená, že čtvrtá souřadnice je rovna jedné (viz seznam bodů):\n",
        "for souradnice in seznam_bodu:\n",
        "    ind = seznam_bodu.index(souradnice)\n",
        "    if ind <= len(seznam_bodu) // 2:\n",
        "        seznam_bodu[ind] = souradnice + (0,)\n",
        "    else:\n",
        "        seznam_bodu[ind] = souradnice + (1,)\n",
        "print(seznam_bodu)\n",
        "print(\"-\"*80)"
      ],
      "execution_count": null,
      "outputs": [
        {
          "output_type": "stream",
          "text": [
            "Seznam bodů: [(-2, 4), (-7, -1), (10, 7), (5, -4)]\n",
            "\n",
            "Rodělme body do dvou skupin s příznakem 0 resp. 1.\n",
            "      Příznak d je čtvrtou souřadnicí.\n",
            "[(-2, 4, 0), (-7, -1, 0), (10, 7, 0), (5, -4, 1)]\n",
            "--------------------------------------------------------------------------------\n"
          ],
          "name": "stdout"
        }
      ]
    },
    {
      "cell_type": "code",
      "metadata": {
        "colab": {
          "base_uri": "https://localhost:8080/"
        },
        "cellView": "code",
        "id": "z9P1x-j46eoI",
        "outputId": "05058105-09aa-479b-a74c-7e90fb05926c"
      },
      "source": [
        "print(seznam_bodu)\n",
        "# počáteční nastavení vah:\n",
        "from math import exp\n",
        "w1 = 0; w2 = 0; w0 = 1; \n",
        "\n",
        "#seznam_bodu = [(0, 0, 0), (1, 1, 0), (1, 0, 1), (0, 1, 1)]\n",
        "# nastavení hyperparametru r (anglicky: learning rate)\n",
        "r = 1  # learning rate...1.parametr  (0,1>\n",
        "s = len(seznam_bodu)  # počet bodů\n",
        "epsilon = 0.1\n",
        "chyba = epsilon \n",
        "pocet_opak = 0\n",
        "while chyba >= epsilon and pocet_opak < 100:\n",
        "    suma_chyb = 0\n",
        "    for souradnice in seznam_bodu:\n",
        "        x1 = souradnice[0]; x2 = souradnice[1];\n",
        "        z = w1 * x1 + w2 * x2 + w0  # z... obecna rovnice primky\n",
        "        #y = f.subs({xi:z})\n",
        "        y = 1/(1 + exp(-z)) # y.....Sigmoidální přenosová funkce \n",
        "        d = souradnice[DIMENZE] # d....barva bodu\n",
        "        #print(y.evalf())\n",
        "        suma_chyb += abs(d - y)\n",
        "        w1 = w1 + r * (d - y) * x1\n",
        "        w2 = w2 + r * (d - y) * x2\n",
        "        w0 = w0 + r * (d - y) \n",
        "        #print(f\"w1 = {w1}, w2 = {w2}, w0 = {w0}\")\n",
        "    chyba = (1/s) * suma_chyb # chyba závisí na volbě parametrů w0, w1, w2\n",
        "    #print(f\"chyba = {chyba}\")\n",
        "    #print()\n",
        "    pocet_opak += 1\n",
        "    #print(chyba)\n",
        "print(\"-\"*80)\n",
        "print(\"Algoritmus končí !\")\n",
        "print(f\"w1 = {w1}, w2 = {w2}, w0 = {w0}\")"
      ],
      "execution_count": null,
      "outputs": [
        {
          "output_type": "stream",
          "text": [
            "[(-2, 4, 0), (-7, -1, 0), (10, 7, 0), (5, -4, 1)]\n",
            "--------------------------------------------------------------------------------\n",
            "Algoritmus končí !\n",
            "w1 = 1.4119917195347602, w2 = -2.9671559574453985, w0 = 0.2605148073693814\n"
          ],
          "name": "stdout"
        }
      ]
    },
    {
      "cell_type": "markdown",
      "metadata": {
        "id": "elWMC_AU_Mrk"
      },
      "source": [
        "### Grafické znázornění 2D"
      ]
    },
    {
      "cell_type": "code",
      "metadata": {
        "colab": {
          "base_uri": "https://localhost:8080/",
          "height": 286
        },
        "id": "t5i-XfbNKMOa",
        "outputId": "64105a54-eb67-4b7c-f585-a511b0085aca"
      },
      "source": [
        "print(f\"w1 = {w1}, w2 = {w2}, w0 = {w0}\")\n",
        "%matplotlib inline\n",
        "import numpy as np\n",
        "import matplotlib.pyplot as plt\n",
        "\n",
        "t = np.arange(-10.0, 10.0, 0.01)\n",
        "s = -(w0 + w1 * t) / w2\n",
        "seznam_modrych_bodu = []\n",
        "seznam_cervenych_bodu = []\n",
        "for bod in seznam_bodu:\n",
        "    if bod[2] == 0:\n",
        "        seznam_modrych_bodu.append(bod)\n",
        "    else:\n",
        "        seznam_cervenych_bodu.append(bod)\n",
        "\n",
        "plt.plot([bod[0] for bod in seznam_modrych_bodu], \n",
        "         [bod[1] for bod in seznam_modrych_bodu], \"bo\")\n",
        "plt.plot([bod[0] for bod in seznam_cervenych_bodu], \n",
        "         [bod[1] for bod in seznam_cervenych_bodu], \"ro\")\n",
        "\n",
        "plt.plot(t, s, \"y\")\n",
        "plt.ylim(-10,10)\n",
        "plt.show()"
      ],
      "execution_count": null,
      "outputs": [
        {
          "output_type": "stream",
          "text": [
            "w1 = 1.4119917195347602, w2 = -2.9671559574453985, w0 = 0.2605148073693814\n"
          ],
          "name": "stdout"
        },
        {
          "output_type": "display_data",
          "data": {
            "image/png": "[encoded data removed]",
            "text/plain": [
              "<Figure size 432x288 with 1 Axes>"
            ]
          },
          "metadata": {
            "tags": [],
            "needs_background": "light"
          }
        }
      ]
    },
    {
      "cell_type": "markdown",
      "metadata": {
        "id": "oy6VMtXw-KmW"
      },
      "source": [
        "## Lineární separace ve 3D"
      ]
    },
    {
      "cell_type": "markdown",
      "metadata": {
        "id": "wYaF1cFAfjuW"
      },
      "source": [
        "Modifikujte předchozí algoritmus pro případ bodů v prostoru $\\mathbb R^3.$\n",
        "Opět uvažujte dvě množiny bodů, separační hranice bude rovina o rovnici:\n",
        "\\begin{equation}\n",
        "w_3x_3 + w_2x_2 + w_1x_1 + w_0 = 0.\n",
        "\\end{equation}\n",
        "\n"
      ]
    },
    {
      "cell_type": "markdown",
      "metadata": {
        "id": "7AJZJZ6v_jrH"
      },
      "source": [
        "### Algoritmus vah ve 3D"
      ]
    },
    {
      "cell_type": "code",
      "metadata": {
        "colab": {
          "base_uri": "https://localhost:8080/"
        },
        "id": "HBQsVCecUoX5",
        "outputId": "f06ad9a6-95f8-443a-904b-6940dff20df2"
      },
      "source": [
        "# generujme  body:\n",
        "\n",
        "POCET_BODU = 3\n",
        "DIMENZE = 3\n",
        "from random import randint\n",
        "seznam_bodu = []\n",
        "for i in range(POCET_BODU):\n",
        "    souradnice = []\n",
        "    for j in range(DIMENZE):\n",
        "        x = randint(-10, 10)\n",
        "        souradnice.append(x)\n",
        "    seznam_bodu.append((*souradnice,))\n",
        "\n",
        "print(f\"Seznam bodů: {seznam_bodu}\")\n",
        "print()\n",
        "print(\"Rodělme body do dvou skupin s příznakem 0 resp. 1.\\n \\\n",
        "     Příznak d je čtvrtou souřadnicí.\")\n",
        "################## rozdělme body do dvou tříd:#####################\n",
        "# modrá znamená, že čtvrtá souřadnice je rovna nule,\n",
        "# červená znamená, že čtvrtá souřadnice je rovna jedné (viz seznam bodů):\n",
        "for souradnice in seznam_bodu:\n",
        "    ind = seznam_bodu.index(souradnice)\n",
        "    if ind <= len(seznam_bodu) // 2:\n",
        "        seznam_bodu[ind] = souradnice + (0,)\n",
        "    else:\n",
        "        seznam_bodu[ind] = souradnice + (1,)\n",
        "print(seznam_bodu)\n",
        "print(\"-\"*80)\n"
      ],
      "execution_count": null,
      "outputs": [
        {
          "output_type": "stream",
          "text": [
            "Seznam bodů: [(6, -10, 2), (9, 9, -1), (4, -2, 6)]\n",
            "\n",
            "Rodělme body do dvou skupin s příznakem 0 resp. 1.\n",
            "      Příznak d je čtvrtou souřadnicí.\n",
            "[(6, -10, 2, 0), (9, 9, -1, 0), (4, -2, 6, 1)]\n",
            "--------------------------------------------------------------------------------\n"
          ],
          "name": "stdout"
        }
      ]
    },
    {
      "cell_type": "code",
      "metadata": {
        "colab": {
          "base_uri": "https://localhost:8080/"
        },
        "cellView": "code",
        "id": "AFPecU1k7tSi",
        "outputId": "0219ae9e-1d47-473f-e438-cafee40cfdf7"
      },
      "source": [
        "# počáteční nastavení vah:\n",
        "from math import exp\n",
        "w1 = 0; w2 = 0; w0 = 1; w3 = 0;\n",
        "\n",
        "#seznam_bodu = [(0, 0, 0), (1, 1, 0), (1, 0, 1), (0, 1, 1)]\n",
        "# nastavení hyperparametru r (anglicky: learning rate)\n",
        "r = 1  # learning rate\n",
        "s = len(seznam_bodu)  # počet bodů\n",
        "epsilon = 0.1\n",
        "chyba = epsilon \n",
        "pocet_opak = 0\n",
        "while chyba >= epsilon and pocet_opak < 100:\n",
        "    suma_chyb = 0\n",
        "    for souradnice in seznam_bodu:\n",
        "        x1 = souradnice[0]; x2 = souradnice[1]; x3 = souradnice[2]\n",
        "        z = w1 * x1 + w2 * x2 + w3 * x3 + w0\n",
        "        #y = f.subs({xi:z})\n",
        "        y = 1/(1 + exp(-z)) \n",
        "        d = souradnice[DIMENZE]\n",
        "        #print(y.evalf())\n",
        "        suma_chyb += abs(d - y)\n",
        "        w1 = w1 + r * (d - y) * x1\n",
        "        w2 = w2 + r * (d - y) * x2\n",
        "        w3 = w3 + r * (d - y) * x3\n",
        "        w0 = w0 + r * (d - y) \n",
        "        #print(f\"w1 = {w1}, w2 = {w2}, w3 = {w3}, w0 = {w0}\")\n",
        "    chyba = (1/s) * suma_chyb # chyba závisí na volbě parametrů w0, w1, w2,w3\n",
        "    #print(f\"chyba = {chyba}\")\n",
        "    #print()\n",
        "    pocet_opak += 1\n",
        "    #print(chyba)\n",
        "print(\"-\"*80)\n",
        "print(seznam_bodu)\n",
        "print(\"-\"*80)\n",
        "print(\"Algoritmus končí !\")\n",
        "print(f\"w1 = {w1}, w2 = {w2}, w3 = {w3}, w0 = {w0}\")"
      ],
      "execution_count": null,
      "outputs": [
        {
          "output_type": "stream",
          "text": [
            "--------------------------------------------------------------------------------\n",
            "[(6, -10, 2, 0), (9, 9, -1, 0), (4, -2, 6, 1)]\n",
            "--------------------------------------------------------------------------------\n",
            "Algoritmus končí !\n",
            "w1 = -9.247563371545633, w2 = -3.7566396330340233, w3 = 5.748233623856275, w0 = 0.3037933486259308\n"
          ],
          "name": "stdout"
        }
      ]
    },
    {
      "cell_type": "markdown",
      "metadata": {
        "id": "6JJJYBoWMXvg"
      },
      "source": [
        "### Grafické znázornění 3D"
      ]
    },
    {
      "cell_type": "code",
      "metadata": {
        "colab": {
          "base_uri": "https://localhost:8080/",
          "height": 248
        },
        "id": "P4Co58KETCFQ",
        "outputId": "26ac6d7b-ab5b-4a67-c8b2-e4f0ea3043b5"
      },
      "source": [
        "import numpy as np\n",
        "import matplotlib.pyplot as plt\n",
        "\n",
        "ax = plt.figure().add_subplot(projection='3d')\n",
        "\n",
        "\n",
        "# Creating dataset\n",
        "x = np.outer(np.linspace(-10, 10, 2), np.ones(2))\n",
        "y = x.copy().T # transpose\n",
        "z =  (w1 * x + w2 * y + w0)/w3\n",
        "  \n",
        "\n",
        "# Creating plot\n",
        "\n",
        "ax.plot_surface(x, y, z, alpha=0.6)\n",
        "\n",
        "seznam_x_souradnic = []\n",
        "seznam_y_souradnic = []\n",
        "seznam_z_souradnic = []\n",
        "\n",
        "for souradnice in seznam_bodu:\n",
        "    seznam_x_souradnic.append(souradnice[0])\n",
        "    seznam_y_souradnic.append(souradnice[1]) \n",
        "    seznam_z_souradnic.append(souradnice[2]) \n",
        "\n",
        "xs = np.array([seznam_x_souradnic])\n",
        "ys = np.array([seznam_y_souradnic])\n",
        "zs = np.array([seznam_z_souradnic])\n",
        "c_list = []\n",
        "\n",
        "# By using zdir='y', the y value of these points is fixed to the zs value 0\n",
        "# and the (x, y) points are plotted on the x and z axes.\n",
        "ax.scatter(xs, ys, zs, marker=\"x\",  s=30,c=['b', 'b', 'r'], depthshade=True, alpha=0.9)\n",
        "#ax.scatter(xs, ys, zs, marker=\"x\",  s=30,c=['b', 'b', 'r'], label='Body', depthshade=True, alpha=0.9)#s...zvetsuje a zmensuje body,c...urcuje barvu,\n",
        "#depthshade=False..hloubkovy stin, pokud True, nic se nedeje, kdyz tam ta funkce neni, pokud False, tak i body za rovinou jsou zvyrazneny\n",
        "\n",
        "# Make legend, set axes limits and labels\n",
        "#ax.set_title(\"Lineární separace ve 3D\") \n",
        "#ax.legend('Body')\n",
        "#ax.set_xlim(-10, 10)\n",
        "#ax.set_ylim(-10, 10)\n",
        "#ax.set_zlim(-10, 10)\n",
        "ax.set_xlabel('X')\n",
        "ax.set_ylabel('Y')\n",
        "ax.set_zlabel('Z')\n",
        "\n",
        "ax.view_init(elev=35., azim=-65) #‘elev’ stores the elevation angle in the z plane. ‘azim’ stores the azimuth angle in the x,y plane.D constructor.\n",
        "\n",
        "plt.show()\n",
        "#print(seznam_bodu)"
      ],
      "execution_count": null,
      "outputs": [
        {
          "output_type": "display_data",
          "data": {
            "image/png": "[encoded data removed]",
            "text/plain": [
              "<Figure size 432x288 with 1 Axes>"
            ]
          },
          "metadata": {
            "tags": [],
            "needs_background": "light"
          }
        }
      ]
    },
    {
      "cell_type": "code",
      "metadata": {
        "id": "6-uW9VYNFYeW"
      },
      "source": [
        ""
      ],
      "execution_count": null,
      "outputs": []
    }
  ]
}